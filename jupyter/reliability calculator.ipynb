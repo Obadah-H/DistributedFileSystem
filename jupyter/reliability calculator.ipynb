{
 "cells": [
  {
   "cell_type": "code",
   "execution_count": 206,
   "id": "a0716ada",
   "metadata": {},
   "outputs": [],
   "source": [
    "import math\n",
    "class ReliabilityCalculator:\n",
    "    def __init__(self, system, n, tr, s, th, rr, ):\n",
    "        self.mttfn = 1400000        \n",
    "        self.n = n\n",
    "        self.system = system\n",
    "        self.tr = tr\n",
    "        self.s = s # node total storage capacity\n",
    "        self.th = th\n",
    "        self.rr = rr\n",
    "        \n",
    "    def initDecStore(self, usage, vdSize = 20000 ):\n",
    "        self.vdSize = vdSize\n",
    "        self.processingTime = 0.01 # ms - time to process one vd (decide where to put)\n",
    "\n",
    "        self.vdsCount = self.n *math.floor(self.s * usage / (100*self.vdSize))\n",
    "        freeVDsCount = self.n *( math.floor((self.s )/(self.vdSize) ) - self.vdsCount/self.vdsCount) - self.vdsCount# total free vds slots in the system\n",
    "        self.freeVDsCount = math.floor(freeVDsCount)\n",
    "        \n",
    "    def initFullBackup(self, b):\n",
    "        self.b = b #number of times to visit getPANFBR function\n",
    "        \n",
    "    def getVDsInfo(self):\n",
    "        return (self.vdsCount, self.freeVDsCount)\n",
    "    \n",
    "    def getTd(self):\n",
    "        return self.vdsCount*self.processingTime/((self.n-1)*3600)\n",
    "        \n",
    "    def getMTTRn(self): #MTTR node\n",
    "        if self.system == \"decStore\":\n",
    "            mTTRn = self.s /(3600*self.th*self.rr*(self.n-1)) + self.getTd()\n",
    "        else:\n",
    "            mTTRn = (self.s /(3600*self.th*self.rr)) + self.tr\n",
    "        return mTTRn\n",
    "    \n",
    "    def getMTTFn(self): #mTTF node\n",
    "        return self.mttfn\n",
    "    \n",
    "    def getPANFBRs(self):\n",
    "        pANFBER = 1\n",
    "        if self.system == \"raid5\":\n",
    "            pANFBER = self.getMTTRn()/(self.getMTTFn()/(self.n - 1))\n",
    "        if self.system == \"raid10\":\n",
    "            pANFBER = self.getMTTRn()/(self.getMTTFn())\n",
    "        if self.system == \"raid6\":\n",
    "            pANFBER = math.prod([(self.getMTTRn()*(self.n - i))/self.getMTTFn() for i in range (1,3)])#/2\n",
    "        if self.system == \"decStore\":\n",
    "            marc = self.getMARC()\n",
    "            pANFBER = (((marc*self.getMTTRn())/self.getMTTFn())**marc) * (self.getMTTFn()/math.prod([self.n-i for i in range(1, marc+1)]))\n",
    "        if self.system == \"fullbackup\":\n",
    "            pANFBER = math.prod([(self.getMTTRn()*(self.b+1-1))/self.getMTTFn() for i in range(1, self.b)])\n",
    "        return pANFBER\n",
    "    \n",
    "    def getMTTFs(self): #MTTF system\n",
    "        MTTFs = ((self.getMTTFn())/self.n)* (1/self.getPANFBRs())\n",
    "        return MTTFs\n",
    "    def F(self, n):\n",
    "        if n == 1:\n",
    "            return self.freeVDsCount\n",
    "        return self.F(n-1) - (self.vdsCount/(self.n-n)) - (self.F(n-1)/(self.n-n))\n",
    "    \n",
    "    def getMARC(self):\n",
    "        for i in range (1, self.n):\n",
    "            if self.F(i) < 0:\n",
    "                return i-1\n",
    "    \n",
    "    def getReliability(self):\n",
    "        return 100*(1-8760/self.getMTTFs())\n",
    "\n",
    "    def getNinesCountForNumber(self, number):\n",
    "        if number == 100:\n",
    "            return 12\n",
    "        if str(number).startswith(\"99\"):\n",
    "            counter = 0\n",
    "            for i in str(number)[3:]:\n",
    "                if i == \"9\":\n",
    "                    counter +=1\n",
    "                else:\n",
    "                    return counter\n",
    "        return 0\n",
    "    \n",
    "    def getAccuracyNines(self, reliabilityArr):\n",
    "        return [self.getNinesCountForNumber(item) for item in reliabilityArr]\n",
    "\n",
    "        \n",
    "        "
   ]
  },
  {
   "cell_type": "code",
   "execution_count": 2,
   "id": "fab0a641",
   "metadata": {},
   "outputs": [
    {
     "name": "stdout",
     "output_type": "stream",
     "text": [
      "74.07407407407408\n",
      "pANFBER: 74.07407407407408 2000000 5\n",
      "1799999999.9999995\n"
     ]
    }
   ],
   "source": [
    "#raid5\n",
    "system = ReliabilityCalculator(\"raid5\", 6, 0, 2000000, 15, 0.5)\n",
    "print(system.getMTTRn())\n",
    "print(system.getMTTFs())"
   ]
  },
  {
   "cell_type": "code",
   "execution_count": 3,
   "id": "37fd745d",
   "metadata": {},
   "outputs": [
    {
     "name": "stdout",
     "output_type": "stream",
     "text": [
      "74.07407407407408\n",
      "pANFBER: 74.07407407407408 2000000 5\n",
      "1799999999.9999995\n"
     ]
    }
   ],
   "source": [
    "#raid5\n",
    "system = ReliabilityCalculator(\"raid5\", 6, 0, 2000000, 15, 0.5)\n",
    "print(system.getMTTRn())\n",
    "print(system.getMTTFs())"
   ]
  },
  {
   "cell_type": "code",
   "execution_count": 11,
   "id": "c173a877",
   "metadata": {},
   "outputs": [
    {
     "name": "stdout",
     "output_type": "stream",
     "text": [
      "185.1851851851852\n",
      "3599999999.999999\n",
      "2000000 185.1851851851852 2000000\n"
     ]
    }
   ],
   "source": [
    "#raid10\n",
    "system = ReliabilityCalculator(\"raid10\", 6, 0, 2000000, 15, 0.2)\n",
    "print(system.getMTTRn())\n",
    "print(system.getMTTFs())\n",
    "print(system.getMTTFn(), system.getMTTRn(), system.getMTTFn())"
   ]
  },
  {
   "cell_type": "code",
   "execution_count": 15,
   "id": "97c4bc3e",
   "metadata": {},
   "outputs": [
    {
     "name": "stdout",
     "output_type": "stream",
     "text": [
      "185.1851851851852\n",
      "666791999999.9999\n"
     ]
    }
   ],
   "source": [
    "#raid6\n",
    "system = ReliabilityCalculator(\"raid6\", 6, 0, 2000000, 15, 0.2)\n",
    "print(system.getMTTRn())\n",
    "print(system.getMTTFs())"
   ]
  },
  {
   "cell_type": "markdown",
   "id": "1c10e728",
   "metadata": {},
   "source": [
    "## tests start here"
   ]
  },
  {
   "cell_type": "code",
   "execution_count": 207,
   "id": "2143225a",
   "metadata": {},
   "outputs": [
    {
     "name": "stdout",
     "output_type": "stream",
     "text": [
      "[89.70013310758377, 92.75789848710318, 99.99997057156168, 99.99998410497679, 99.99999046693816, 99.99999384166635, 99.99999999998808, 99.9999999999933, 99.99999999999602, 99.9999999999975]\n",
      "3\n",
      "(182, 65)\n",
      "[0, 0, 4, 4, 5, 5, 10, 11, 11, 11]\n"
     ]
    }
   ],
   "source": [
    "\n",
    "#vary by n\n",
    "reliability = []\n",
    "n=3\n",
    "for i in range (10):\n",
    "    #decStore\n",
    "    total = 2000000\n",
    "    vdSize = 100000\n",
    "    n = n+1\n",
    "    usage = 70 #%\n",
    "    system = ReliabilityCalculator(\"decStore\", n, 0, total, 30, 0.5)\n",
    "    system.initDecStore(usage=usage, vdSize=vdSize)\n",
    "    reliability.append(system.getReliability())\n",
    "\n",
    "print(reliability)\n",
    "print(system.getMARC())\n",
    "print(system.getVDsInfo())\n",
    "\n",
    "print(system.getAccuracyNines(reliability))"
   ]
  },
  {
   "cell_type": "code",
   "execution_count": 209,
   "id": "777cbb20",
   "metadata": {},
   "outputs": [
    {
     "name": "stdout",
     "output_type": "stream",
     "text": [
      "[89.70012074779541, 92.75788762400794, 94.43805018666667, 95.49378457716048, 96.21635045545838, 96.74103183258929, 97.13889925534, 97.45075579507937, 97.7016550145612, 97.90781160725308]\n",
      "1\n",
      "(234, 13)\n",
      "[0, 0, 0, 0, 0, 0, 0, 0, 0, 0]\n"
     ]
    }
   ],
   "source": [
    "#vary by n\n",
    "reliability = []\n",
    "n=3\n",
    "for i in range (10):\n",
    "    #decStore\n",
    "    total = 2000000\n",
    "    n = n+1\n",
    "    usage = 90 #%\n",
    "    vdSize = 100000\n",
    "    system = ReliabilityCalculator(\"decStore\", n, 0, total, 30, 0.5)\n",
    "    system.initDecStore(usage=usage, vdSize=vdSize)\n",
    "    reliability.append(system.getReliability())\n",
    "\n",
    "print(reliability)\n",
    "print(system.getMARC())\n",
    "print(system.getVDsInfo())\n",
    "print(system.getAccuracyNines(reliability))\n"
   ]
  },
  {
   "cell_type": "code",
   "execution_count": 211,
   "id": "433657fc",
   "metadata": {},
   "outputs": [
    {
     "name": "stdout",
     "output_type": "stream",
     "text": [
      "[89.7001269276896, 92.75789305555556, 94.43805519238096, 95.49378930864198, 96.21635499578879, 99.99999384164973, 99.9999957949283, 99.9999970026177, 99.99999778896206, 99.99999832273774]\n",
      "(208, 39)\n",
      "[0, 0, 0, 0, 0, 5, 5, 5, 5, 5]\n"
     ]
    }
   ],
   "source": [
    "\n",
    "#vary by n\n",
    "reliability = []\n",
    "n=3\n",
    "for i in range (10):\n",
    "    #decStore\n",
    "    total = 2000000\n",
    "    n = n+1\n",
    "    usage = 80 #%\n",
    "    vdSize = 100000\n",
    "    system = ReliabilityCalculator(\"decStore\", n, 0, total, 30, 0.5)\n",
    "    system.initDecStore(usage=usage, vdSize=vdSize)\n",
    "    reliability.append(system.getReliability())\n",
    "\n",
    "print(reliability)\n",
    "print(system.getVDsInfo())\n",
    "print(system.getAccuracyNines(reliability))\n"
   ]
  },
  {
   "cell_type": "code",
   "execution_count": 212,
   "id": "b57c426d",
   "metadata": {},
   "outputs": [
    {
     "name": "stdout",
     "output_type": "stream",
     "text": [
      "[99.99999998423496, 99.99999998029371, 99.99999997635246, 99.99999997241119, 99.99999996846994, 99.99999996452867, 99.9999999605874, 99.99999995664615, 99.99999995270488, 99.99999994876363]\n",
      "[7, 7, 7, 7, 7, 7, 7, 7, 7, 7]\n"
     ]
    }
   ],
   "source": [
    "#3-levels backup\n",
    "reliability = []\n",
    "total = 2000000\n",
    "n = 3\n",
    "for i in range (10):\n",
    "    n = n+1\n",
    "    system = ReliabilityCalculator(\"fullbackup\", n, 0, total, 30, 0.5)\n",
    "    system.initFullBackup(3)\n",
    "    reliability.append(system.getReliability())\n",
    "\n",
    "print(reliability)\n",
    "print(system.getAccuracyNines(reliability))\n"
   ]
  },
  {
   "cell_type": "code",
   "execution_count": 213,
   "id": "39d6b980",
   "metadata": {},
   "outputs": [
    {
     "name": "stdout",
     "output_type": "stream",
     "text": [
      "[99.99986757369615, 99.99983446712018, 99.99980136054421, 99.99976825396826, 99.99973514739229, 99.99970204081633, 99.99966893424036, 99.9996358276644, 99.99960272108844, 99.99956961451247]\n",
      "[3, 3, 3, 3, 3, 3, 3, 3, 3, 3]\n"
     ]
    }
   ],
   "source": [
    "#2-levels backup\n",
    "reliability = []\n",
    "total = 2000000\n",
    "n = 3\n",
    "for i in range (10):\n",
    "    n = n+1\n",
    "    system = ReliabilityCalculator(\"fullbackup\", n, 0, total, 30, 0.5)\n",
    "    system.initFullBackup(2)\n",
    "    reliability.append(system.getReliability())\n",
    "\n",
    "print(reliability)\n",
    "print(system.getAccuracyNines(reliability))\n"
   ]
  },
  {
   "cell_type": "code",
   "execution_count": 214,
   "id": "3537d122",
   "metadata": {},
   "outputs": [
    {
     "name": "stdout",
     "output_type": "stream",
     "text": [
      "[97.49714285714286, 96.87142857142858, 96.24571428571429, 95.62, 94.99428571428572, 94.36857142857143, 93.74285714285713, 93.11714285714285, 92.49142857142857, 91.86571428571429]\n",
      "[0, 0, 0, 0, 0, 0, 0, 0, 0, 0]\n"
     ]
    }
   ],
   "source": [
    "#1-level backup\n",
    "reliability = []\n",
    "total = 2000000\n",
    "n = 3\n",
    "for i in range (10):\n",
    "    n = n+1\n",
    "    system = ReliabilityCalculator(\"fullbackup\", n, 0, total, 30, 0.5)\n",
    "    system.initFullBackup(1)\n",
    "    reliability.append(system.getReliability())\n",
    "\n",
    "print(reliability)\n",
    "print(system.getAccuracyNines(reliability))\n"
   ]
  },
  {
   "cell_type": "code",
   "execution_count": 216,
   "id": "30f927df",
   "metadata": {},
   "outputs": [
    {
     "name": "stdout",
     "output_type": "stream",
     "text": [
      "[99.99980136054421, 99.99966893424036, 99.99950340136054, 99.99930476190477, 99.99907301587302, 99.99880816326531, 99.99851020408164, 99.998179138322, 99.9978149659864, 99.99741768707483]\n",
      "[3, 3, 3, 3, 3, 2, 2, 2, 2, 2]\n"
     ]
    }
   ],
   "source": [
    "#raid5\n",
    "reliability = []\n",
    "total = 2000000\n",
    "n = 3\n",
    "for i in range (10):\n",
    "    n = n+1\n",
    "    system = ReliabilityCalculator(\"raid5\", n, 0, total, 30, 0.5)\n",
    "    reliability.append(system.getReliability())\n",
    "\n",
    "print(reliability)\n",
    "print(system.getAccuracyNines(reliability))"
   ]
  },
  {
   "cell_type": "code",
   "execution_count": 217,
   "id": "12740c1f",
   "metadata": {},
   "outputs": [
    {
     "name": "stdout",
     "output_type": "stream",
     "text": [
      "[99.99999998948998, 99.99999997372494, 99.99999994744988, 99.99999990803728, 99.99999985285967, 99.9999997792895, 99.99999968469928, 99.99999956646151, 99.99999942194867, 99.99999924853327]\n",
      "[7, 7, 7, 7, 6, 6, 6, 6, 6, 6]\n"
     ]
    }
   ],
   "source": [
    "#raid6\n",
    "reliability = []\n",
    "total = 2000000\n",
    "n = 3\n",
    "for i in range (10):\n",
    "    n = n+1\n",
    "    system = ReliabilityCalculator(\"raid6\", n, 0, total, 30, 0.5)\n",
    "    reliability.append(system.getReliability())\n",
    "\n",
    "print(reliability)\n",
    "print(system.getAccuracyNines(reliability))"
   ]
  }
 ],
 "metadata": {
  "kernelspec": {
   "display_name": "Python 3.9.4 64-bit",
   "language": "python",
   "name": "python3"
  },
  "language_info": {
   "codemirror_mode": {
    "name": "ipython",
    "version": 3
   },
   "file_extension": ".py",
   "mimetype": "text/x-python",
   "name": "python",
   "nbconvert_exporter": "python",
   "pygments_lexer": "ipython3",
   "version": "3.9.4"
  },
  "vscode": {
   "interpreter": {
    "hash": "3360e3604391758da36659830ef7d308a0c3003777cb07848ee9662e37379d3c"
   }
  }
 },
 "nbformat": 4,
 "nbformat_minor": 5
}
