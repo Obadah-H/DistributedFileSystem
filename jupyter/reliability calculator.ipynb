{
 "cells": [
  {
   "cell_type": "code",
   "execution_count": 143,
   "id": "a0716ada",
   "metadata": {},
   "outputs": [],
   "source": [
    "import math\n",
    "from decimal import *\n",
    "class ReliabilityCalculator:\n",
    "    def __init__(self, system, n, tr, s, th, rr, ):\n",
    "        self.mttfn = 1400000        \n",
    "        self.n = n\n",
    "        self.system = system\n",
    "        self.tr = tr\n",
    "        self.s = s # node total storage capacity\n",
    "        self.th = th\n",
    "        self.rr = rr\n",
    "        \n",
    "    def initDecStore(self, usage, vdSize = 20000 ):\n",
    "        self.vdSize = vdSize\n",
    "        self.processingTime = 0.01 # ms - time to process one vd (decide where to put)\n",
    "\n",
    "        self.vdsCount = self.n *math.ceil(self.s * usage / (100*self.vdSize))\n",
    "        freeVDsCount = self.n *( math.floor((self.s )/(self.vdSize) ))- self.vdsCount # total free vds slots in the system\n",
    "        self.freeVDsCount = math.floor(freeVDsCount)\n",
    "        \n",
    "    def initFullBackup(self, b):\n",
    "        self.b = b #number of times to visit getPANFBR function\n",
    "        \n",
    "    def getVDsInfo(self):\n",
    "        return (self.vdsCount, self.freeVDsCount)\n",
    "    \n",
    "    def getTd(self):\n",
    "        return self.vdsCount*self.processingTime/((self.n-1)*3600)\n",
    "        \n",
    "    def getMTTRn(self): #MTTR node\n",
    "        if self.system == \"decStore\":\n",
    "            mTTRn = self.s /(3600*self.th*self.rr*(self.n-1)) + self.getTd()\n",
    "        else:\n",
    "            mTTRn = (self.s /(3600*self.th*self.rr)) + self.tr\n",
    "        return mTTRn\n",
    "    \n",
    "    def getMTTFn(self): #mTTF node\n",
    "        return self.mttfn\n",
    "    \n",
    "    def getPANFBRs(self):\n",
    "        pANFBER = 1\n",
    "        if self.system == \"raid5\":\n",
    "            pANFBER = self.getMTTRn()/(self.getMTTFn()/(self.n - 1))\n",
    "        if self.system == \"raid10\":\n",
    "            pANFBER = self.getMTTRn()/(self.getMTTFn())\n",
    "        if self.system == \"raid6\":\n",
    "            pANFBER = math.prod([(self.getMTTRn()*(self.n - i))/self.getMTTFn() for i in range (1,3)])#/2\n",
    "        if self.system == \"decStore\":\n",
    "            marc = self.getMARC()\n",
    "            pANFBER = (((marc*self.getMTTRn())/self.getMTTFn())**marc) * (self.getMTTFn()/math.prod([self.n-i for i in range(1, marc+1)]))\n",
    "        if self.system == \"fullbackup\":\n",
    "            pANFBER = math.prod([(self.getMTTRn()*(self.b+1-i))/self.getMTTFn() for i in range(1, self.b)])\n",
    "        return pANFBER\n",
    "    \n",
    "    def getMTTFs(self): #MTTF system\n",
    "        MTTFs = Decimal(((self.getMTTFn())/self.n))* (1/Decimal(self.getPANFBRs()))\n",
    "        return MTTFs\n",
    "    def F(self, n):\n",
    "        if n == 0:\n",
    "            return self.freeVDsCount\n",
    "        return self.F(n-1) - (self.vdsCount/(self.n-n+1)) - (self.F(n-1)/(self.n-n+1))\n",
    "    \n",
    "    def getMARC(self):\n",
    "        for i in range (1, self.n-2):\n",
    "            if self.F(i) < 0:\n",
    "                return i\n",
    "        return self.n-2\n",
    "    \n",
    "    def getReliability(self):\n",
    "        return 100*(1-8760/self.getMTTFs())\n",
    "\n",
    "    def getNinesCountForNumber(self, number):\n",
    "        if number == 100:\n",
    "            return 12\n",
    "        if str(number).startswith(\"99\"):\n",
    "            counter = 0\n",
    "            for i in str(number)[3:]:\n",
    "                if i == \"9\":\n",
    "                    counter +=1\n",
    "                else:\n",
    "                    return counter\n",
    "        return 0\n",
    "    \n",
    "    def getAccuracyNines(self, reliabilityArr):\n",
    "        return [self.getNinesCountForNumber(item) for item in reliabilityArr]\n",
    "\n",
    "        \n",
    "        "
   ]
  },
  {
   "cell_type": "code",
   "execution_count": 134,
   "id": "fab0a641",
   "metadata": {},
   "outputs": [
    {
     "name": "stdout",
     "output_type": "stream",
     "text": [
      "74.07407407407408\n",
      "881999999.9999999771910615121\n"
     ]
    }
   ],
   "source": [
    "#raid5\n",
    "system = ReliabilityCalculator(\"raid5\", 6, 0, 2000000, 15, 0.5)\n",
    "print(system.getMTTRn())\n",
    "print(system.getMTTFs())"
   ]
  },
  {
   "cell_type": "code",
   "execution_count": 3,
   "id": "37fd745d",
   "metadata": {},
   "outputs": [
    {
     "name": "stdout",
     "output_type": "stream",
     "text": [
      "74.07407407407408\n",
      "pANFBER: 74.07407407407408 2000000 5\n",
      "1799999999.9999995\n"
     ]
    }
   ],
   "source": [
    "#raid5\n",
    "system = ReliabilityCalculator(\"raid5\", 6, 0, 2000000, 15, 0.5)\n",
    "print(system.getMTTRn())\n",
    "print(system.getMTTFs())"
   ]
  },
  {
   "cell_type": "code",
   "execution_count": 11,
   "id": "c173a877",
   "metadata": {},
   "outputs": [
    {
     "name": "stdout",
     "output_type": "stream",
     "text": [
      "185.1851851851852\n",
      "3599999999.999999\n",
      "2000000 185.1851851851852 2000000\n"
     ]
    }
   ],
   "source": [
    "#raid10\n",
    "system = ReliabilityCalculator(\"raid10\", 6, 0, 2000000, 15, 0.2)\n",
    "print(system.getMTTRn())\n",
    "print(system.getMTTFs())\n",
    "print(system.getMTTFn(), system.getMTTRn(), system.getMTTFn())"
   ]
  },
  {
   "cell_type": "code",
   "execution_count": 125,
   "id": "97c4bc3e",
   "metadata": {},
   "outputs": [
    {
     "name": "stdout",
     "output_type": "stream",
     "text": [
      "185.1851851851852\n",
      "666791999999.9998882860414577\n"
     ]
    }
   ],
   "source": [
    "#raid6\n",
    "system = ReliabilityCalculator(\"raid6\", 6, 0, 2000000, 15, 0.2)\n",
    "print(system.getMTTRn())\n",
    "print(system.getMTTFs())"
   ]
  },
  {
   "cell_type": "markdown",
   "id": "1c10e728",
   "metadata": {},
   "source": [
    "## tests start here"
   ]
  },
  {
   "cell_type": "code",
   "execution_count": 144,
   "id": "2143225a",
   "metadata": {
    "scrolled": true
   },
   "outputs": [
    {
     "name": "stdout",
     "output_type": "stream",
     "text": [
      "[Decimal('99.99981834373629881522226954'), Decimal('99.99993613633567963164843821'), Decimal('99.99997057156168187558576198'), Decimal('99.99999999988173258898789605'), Decimal('99.99999999995136152080013525'), Decimal('99.99999999997708931606300204'), Decimal('99.99999999999999994463398222'), Decimal('99.99999999999999997602497409'), Decimal('99.99999999999999998863199949'), Decimal('99.99999999999999999420301052')]\n",
      "4\n",
      "(182, 78)\n",
      "[3, 4, 4, 9, 10, 10, 16, 16, 16, 17]\n"
     ]
    }
   ],
   "source": [
    "#decStore\n",
    "reliability = []\n",
    "#vary by n\n",
    "n=3\n",
    "for i in range (10):\n",
    "    total = 2000000\n",
    "    vdSize = 100000\n",
    "    n = n+1\n",
    "    usage = 70 #%\n",
    "    system = ReliabilityCalculator(\"decStore\", n, 0, total, 30, 0.5)\n",
    "    system.initDecStore(usage=usage, vdSize=vdSize)\n",
    "    reliability.append(system.getReliability())\n",
    "\n",
    "print(reliability)\n",
    "print(system.getMARC())\n",
    "print(system.getVDsInfo())\n",
    "\n",
    "print(system.getAccuracyNines(reliability))"
   ]
  },
  {
   "cell_type": "code",
   "execution_count": 145,
   "id": "d307e303",
   "metadata": {},
   "outputs": [
    {
     "name": "stdout",
     "output_type": "stream",
     "text": [
      "[Decimal('89.70012692768959423363282570'), Decimal('99.99993613623988460219777674'), Decimal('99.99997057150871099649252679'), Decimal('99.99998410494340907289971861'), Decimal('99.99999046691527537604038190'), Decimal('99.99999384164972663296375409'), Decimal('99.99999579492829773036347856'), Decimal('99.99999999999330932618651239'), Decimal('99.99999999999601177888765711'), Decimal('99.99999999999750403507186511')]\n",
      "3\n",
      "(208, 52)\n",
      "[0, 4, 4, 4, 5, 5, 5, 11, 11, 11]\n"
     ]
    }
   ],
   "source": [
    "#decStore\n",
    "reliability = []\n",
    "#vary by n\n",
    "n=3\n",
    "for i in range (10):\n",
    "    total = 2000000\n",
    "    vdSize = 100000\n",
    "    n = n+1\n",
    "    usage = 80 #%\n",
    "    system = ReliabilityCalculator(\"decStore\", n, 0, total, 30, 0.5)\n",
    "    system.initDecStore(usage=usage, vdSize=vdSize)\n",
    "    reliability.append(system.getReliability())\n",
    "\n",
    "print(reliability)\n",
    "print(system.getMARC())\n",
    "print(system.getVDsInfo())\n",
    "\n",
    "print(system.getAccuracyNines(reliability))"
   ]
  },
  {
   "cell_type": "code",
   "execution_count": 146,
   "id": "777cbb20",
   "metadata": {},
   "outputs": [
    {
     "name": "stdout",
     "output_type": "stream",
     "text": [
      "[Decimal('89.70012074779541429896718390'), Decimal('92.75788762400793606869139499'), Decimal('94.43805018666666674479816009'), Decimal('95.49378457716049412251635431'), Decimal('96.21635045545837339377369192'), Decimal('96.74103183258928569313725849'), Decimal('99.99999579491568265717586309'), Decimal('99.99999700260780576475311123'), Decimal('99.99999778895409463437426386'), Decimal('99.99999832273119235753905147')]\n",
      "2\n",
      "(234, 26)\n",
      "[0, 0, 0, 0, 0, 0, 5, 5, 5, 5]\n"
     ]
    }
   ],
   "source": [
    "#vary by n\n",
    "reliability = []\n",
    "n=3\n",
    "for i in range (10):\n",
    "    #decStore\n",
    "    total = 2000000\n",
    "    n = n+1\n",
    "    usage = 90 #%\n",
    "    vdSize = 100000\n",
    "    system = ReliabilityCalculator(\"decStore\", n, 0, total, 30, 0.5)\n",
    "    system.initDecStore(usage=usage, vdSize=vdSize)\n",
    "    reliability.append(system.getReliability())\n",
    "\n",
    "print(reliability)\n",
    "print(system.getMARC())\n",
    "print(system.getVDsInfo())\n",
    "print(system.getAccuracyNines(reliability))\n"
   ]
  },
  {
   "cell_type": "code",
   "execution_count": 148,
   "id": "b57c426d",
   "metadata": {},
   "outputs": [
    {
     "name": "stdout",
     "output_type": "stream",
     "text": [
      "[Decimal('99.99999998948997588453370648'), Decimal('99.99999998686246985566713309'), Decimal('99.99999998423496382680056037'), Decimal('99.99999998160745779793398633'), Decimal('99.99999997897995176906741295'), Decimal('99.99999997635244574020084055'), Decimal('99.99999997372493971133426619'), Decimal('99.99999997109743368246769431'), Decimal('99.99999996846992765360112074'), Decimal('99.99999996584242162473454463')]\n",
      "[7, 7, 7, 7, 7, 7, 7, 7, 7, 7]\n"
     ]
    }
   ],
   "source": [
    "#3-levels backup\n",
    "reliability = []\n",
    "total = 2000000\n",
    "n = 3\n",
    "for i in range (10):\n",
    "    n = n+1\n",
    "    system = ReliabilityCalculator(\"fullbackup\", n, 0, total, 30, 0.5)\n",
    "    system.initFullBackup(3)\n",
    "    reliability.append(system.getReliability())\n",
    "\n",
    "print(reliability)\n",
    "print(system.getAccuracyNines(reliability))\n"
   ]
  },
  {
   "cell_type": "code",
   "execution_count": 149,
   "id": "1935de6f",
   "metadata": {},
   "outputs": [
    {
     "name": "stdout",
     "output_type": "stream",
     "text": [
      "[Decimal('99.99986757369614512471101481'), Decimal('99.99983446712018140588876851'), Decimal('99.99980136054421768707478103'), Decimal('99.99976825396825396824427592'), Decimal('99.99973514739229024942202962'), Decimal('99.99970204081632653061217154'), Decimal('99.99966893424036281177753702'), Decimal('99.99963582766439909297421717'), Decimal('99.99960272108843537414956205'), Decimal('99.99956961451247165529290404')]\n",
      "[3, 3, 3, 3, 3, 3, 3, 3, 3, 3]\n"
     ]
    }
   ],
   "source": [
    "#2-levels backup\n",
    "reliability = []\n",
    "total = 2000000\n",
    "n = 3\n",
    "for i in range (10):\n",
    "    n = n+1\n",
    "    system = ReliabilityCalculator(\"fullbackup\", n, 0, total, 30, 0.5)\n",
    "    system.initFullBackup(2)\n",
    "    reliability.append(system.getReliability())\n",
    "\n",
    "print(reliability)\n",
    "print(system.getAccuracyNines(reliability))\n"
   ]
  },
  {
   "cell_type": "code",
   "execution_count": 151,
   "id": "3537d122",
   "metadata": {},
   "outputs": [
    {
     "name": "stdout",
     "output_type": "stream",
     "text": [
      "[Decimal('97.49714285714285714285714286'), Decimal('96.87142857142857142857142857'), Decimal('96.24571428571428587037727845'), Decimal('95.6200'), Decimal('94.99428571428571428571428571'), Decimal('94.36857142857142880556591767'), Decimal('93.74285714285714285714285714'), Decimal('93.11714285714285750056697740'), Decimal('92.49142857142857174075455690'), Decimal('91.86571428571428537608732526')]\n",
      "[0, 0, 0, 0, 0, 0, 0, 0, 0, 0]\n"
     ]
    }
   ],
   "source": [
    "#1-levels backup\n",
    "reliability = []\n",
    "total = 2000000\n",
    "n = 3\n",
    "for i in range (10):\n",
    "    n = n+1\n",
    "    system = ReliabilityCalculator(\"fullbackup\", n, 0, total, 30, 0.5)\n",
    "    system.initFullBackup(1)\n",
    "    reliability.append(system.getReliability())\n",
    "\n",
    "print(reliability)\n",
    "print(system.getAccuracyNines(reliability))\n"
   ]
  },
  {
   "cell_type": "code",
   "execution_count": 152,
   "id": "30f927df",
   "metadata": {},
   "outputs": [
    {
     "name": "stdout",
     "output_type": "stream",
     "text": [
      "[Decimal('99.99980136054421768707500222'), Decimal('99.99966893424036281177753702'), Decimal('99.99950340136054421767423255'), Decimal('99.99930476190476190476250778'), Decimal('99.99907301587301587292622361'), Decimal('99.99880816326530612244868616'), Decimal('99.99851020408163265306251668'), Decimal('99.99817913832199546482444581'), Decimal('99.99781496598639455805155157'), Decimal('99.99741768707482993186766435')]\n",
      "[3, 3, 3, 3, 3, 2, 2, 2, 2, 2]\n"
     ]
    }
   ],
   "source": [
    "#raid5\n",
    "reliability = []\n",
    "total = 2000000\n",
    "n = 3\n",
    "for i in range (10):\n",
    "    n = n+1\n",
    "    system = ReliabilityCalculator(\"raid5\", n, 0, total, 30, 0.5)\n",
    "    reliability.append(system.getReliability())\n",
    "\n",
    "print(reliability)\n",
    "print(system.getAccuracyNines(reliability))"
   ]
  },
  {
   "cell_type": "code",
   "execution_count": 153,
   "id": "12740c1f",
   "metadata": {},
   "outputs": [
    {
     "name": "stdout",
     "output_type": "stream",
     "text": [
      "[Decimal('99.99999998948997588453370648'), Decimal('99.99999997372493971133426619'), Decimal('99.99999994744987942266853249'), Decimal('99.99999990803728898966994253'), Decimal('99.99999985285966238347191136'), Decimal('99.99999977928949357520788864'), Decimal('99.99999968469927653601117356'), Decimal('99.99999956646150523701542034'), Decimal('99.99999942194867364935393194'), Decimal('99.99999924853327574416015669')]\n",
      "[7, 7, 7, 7, 6, 6, 6, 6, 6, 6]\n"
     ]
    }
   ],
   "source": [
    "#raid6\n",
    "reliability = []\n",
    "total = 2000000\n",
    "n = 3\n",
    "for i in range (10):\n",
    "    n = n+1\n",
    "    system = ReliabilityCalculator(\"raid6\", n, 0, total, 30, 0.5)\n",
    "    reliability.append(system.getReliability())\n",
    "\n",
    "print(reliability)\n",
    "print(system.getAccuracyNines(reliability))"
   ]
  }
 ],
 "metadata": {
  "kernelspec": {
   "display_name": "Python 3 (ipykernel)",
   "language": "python",
   "name": "python3"
  },
  "language_info": {
   "codemirror_mode": {
    "name": "ipython",
    "version": 3
   },
   "file_extension": ".py",
   "mimetype": "text/x-python",
   "name": "python",
   "nbconvert_exporter": "python",
   "pygments_lexer": "ipython3",
   "version": "3.9.4"
  },
  "vscode": {
   "interpreter": {
    "hash": "3360e3604391758da36659830ef7d308a0c3003777cb07848ee9662e37379d3c"
   }
  }
 },
 "nbformat": 4,
 "nbformat_minor": 5
}
