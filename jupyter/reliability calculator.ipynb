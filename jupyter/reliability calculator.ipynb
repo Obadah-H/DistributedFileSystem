{
 "cells": [
  {
   "cell_type": "code",
   "execution_count": 49,
   "id": "a0716ada",
   "metadata": {},
   "outputs": [],
   "source": [
    "import math\n",
    "class ReliabilityCalculator:\n",
    "    def __init__(self, system, n, tr, s, th, rr, ):\n",
    "        self.mttfn = 1400000        \n",
    "        self.n = n\n",
    "        self.system = system\n",
    "        self.tr = tr\n",
    "        self.s = s # node total storage capacity\n",
    "        self.th = th\n",
    "        self.rr = rr\n",
    "        \n",
    "    def initDecStore(self, vdsCount=30, vdSize = 20000):\n",
    "        self.vdsCount = vdsCount # in case of decstore - total count of vds in the system\n",
    "        self.processingTime = 0.01 # ms - time to process one vd (decide where to put)\n",
    "        self.vdSize = vdSize\n",
    "        self.freeVDsCount = math.floor((self.s * self.n)/self.vdSize - vdsCount)# total free vds slots in the system\n",
    "        print (self.freeVDsCount)\n",
    "    \n",
    "        \n",
    "    def initFullBackup(self, b):\n",
    "        self.b = b #number of times to visit getPANFBR function\n",
    "        \n",
    "    def getVDsInfo(self):\n",
    "        return (self.vdsCount, self.freeVDsCount)\n",
    "    \n",
    "    def getTd(self, n):\n",
    "        return self.vdsCount*self.processingTime/(n*3600)\n",
    "        \n",
    "    def getMTTRn(self, n=None): #MTTR node\n",
    "        if self.system == \"decStore\":\n",
    "            if self.tr == 0:\n",
    "                mTTRn = (self.s /(3600*self.th*self.rr)) + self.tr\n",
    "            else:\n",
    "                mTTRn = (self.s /(3600*self.th*self.rr*n-1)) + self.getTd(n)\n",
    "        else:\n",
    "            mTTRn = (self.s /(3600*self.th*self.rr)) + self.tr\n",
    "        return mTTRn\n",
    "    \n",
    "    def getMTTFn(self): #mTTF node\n",
    "        return self.mttfn\n",
    "    \n",
    "    def getPANFBRs(self):\n",
    "        pANFBER = 1\n",
    "        if self.system == \"raid5\":\n",
    "            pANFBER = self.getMTTRn()/(self.getMTTFn()/(self.n - 1))\n",
    "        if self.system == \"raid10\":\n",
    "            pANFBER = self.getMTTRn()/(self.getMTTFn())\n",
    "        if self.system == \"raid6\":\n",
    "            pANFBER = math.prod([(self.getMTTRn()*(self.n - i))/self.getMTTFn() for i in range (1,3)])#/2\n",
    "        if self.system == \"decStore\":\n",
    "            marc = self.getMARC()\n",
    "            pANFBER = (((marc*self.getMTTRn())/self.getMTTFn())**marc) * (self.getMTTFn()/math.prod([self.n-i for i in range(1, marc+1)]))\n",
    "        if self.system == \"fullbackup\":\n",
    "            pANFBER = math.prod([(self.getMTTRn()*(self.b+1-1))/self.getMTTFn() for i in range(1, self.b)])\n",
    "        return pANFBER\n",
    "    \n",
    "    def getMTTFs(self): #MTTF system\n",
    "        MTTFs = ((self.getMTTFn())/self.n)* (1/self.getPANFBRs())\n",
    "        return MTTFs\n",
    "    def F(self, n):\n",
    "        if n == 1:\n",
    "            return self.freeVDsCount\n",
    "        return self.F(n-1) - (self.vdsCount/(self.n-n)) - (self.F(n-1)/(self.n-n))\n",
    "    def getMARC(self):\n",
    "        for i in range (1, self.n):\n",
    "            if self.F(i) < 0:\n",
    "                return i-1\n",
    "        \n",
    "        "
   ]
  },
  {
   "cell_type": "code",
   "execution_count": 3,
   "id": "df1d1044",
   "metadata": {},
   "outputs": [
    {
     "name": "stdout",
     "output_type": "stream",
     "text": [
      "[1, 2]\n"
     ]
    }
   ],
   "source": [
    "\n",
    "print([i for i in range(1,3)])"
   ]
  },
  {
   "cell_type": "code",
   "execution_count": 2,
   "id": "fab0a641",
   "metadata": {},
   "outputs": [
    {
     "name": "stdout",
     "output_type": "stream",
     "text": [
      "74.07407407407408\n",
      "pANFBER: 74.07407407407408 2000000 5\n",
      "1799999999.9999995\n"
     ]
    }
   ],
   "source": [
    "#raid5\n",
    "system = ReliabilityCalculator(\"raid5\", 6, 0, 2000000, 15, 0.5)\n",
    "print(system.getMTTRn())\n",
    "print(system.getMTTFs())"
   ]
  },
  {
   "cell_type": "code",
   "execution_count": 3,
   "id": "37fd745d",
   "metadata": {},
   "outputs": [
    {
     "name": "stdout",
     "output_type": "stream",
     "text": [
      "74.07407407407408\n",
      "pANFBER: 74.07407407407408 2000000 5\n",
      "1799999999.9999995\n"
     ]
    }
   ],
   "source": [
    "#raid5\n",
    "system = ReliabilityCalculator(\"raid5\", 6, 0, 2000000, 15, 0.5)\n",
    "print(system.getMTTRn())\n",
    "print(system.getMTTFs())"
   ]
  },
  {
   "cell_type": "code",
   "execution_count": 11,
   "id": "c173a877",
   "metadata": {},
   "outputs": [
    {
     "name": "stdout",
     "output_type": "stream",
     "text": [
      "185.1851851851852\n",
      "3599999999.999999\n",
      "2000000 185.1851851851852 2000000\n"
     ]
    }
   ],
   "source": [
    "#raid10\n",
    "system = ReliabilityCalculator(\"raid10\", 6, 0, 2000000, 15, 0.2)\n",
    "print(system.getMTTRn())\n",
    "print(system.getMTTFs())\n",
    "print(system.getMTTFn(), system.getMTTRn(), system.getMTTFn())"
   ]
  },
  {
   "cell_type": "code",
   "execution_count": 15,
   "id": "97c4bc3e",
   "metadata": {},
   "outputs": [
    {
     "name": "stdout",
     "output_type": "stream",
     "text": [
      "185.1851851851852\n",
      "666791999999.9999\n"
     ]
    }
   ],
   "source": [
    "#raid6\n",
    "system = ReliabilityCalculator(\"raid6\", 6, 0, 2000000, 15, 0.2)\n",
    "print(system.getMTTRn())\n",
    "print(system.getMTTFs())"
   ]
  },
  {
   "cell_type": "code",
   "execution_count": 60,
   "id": "5401c81c",
   "metadata": {},
   "outputs": [
    {
     "name": "stdout",
     "output_type": "stream",
     "text": [
      "280\n",
      "120\n",
      "27.77777777777778\n",
      "37800.0\n",
      "1\n"
     ]
    }
   ],
   "source": [
    "#decStore\n",
    "total = 2000000\n",
    "n = 4\n",
    "usage = 70 #%\n",
    "vdSize = 20000\n",
    "vdsCount = math.floor(total * n * usage / (100*20000))\n",
    "print (vdsCount)\n",
    "system = ReliabilityCalculator(\"decStore\", n, 0, total, 100, 0.2)\n",
    "system.initDecStore(vdsCount=vdsCount)\n",
    "print(system.getMTTRn())\n",
    "print(system.getMTTFs())\n",
    "print(system.getMARC())"
   ]
  },
  {
   "cell_type": "code",
   "execution_count": 61,
   "id": "2143225a",
   "metadata": {},
   "outputs": [
    {
     "name": "stdout",
     "output_type": "stream",
     "text": [
      "75.77777777777777\n",
      "3233137829.9120235\n"
     ]
    }
   ],
   "source": [
    "#decStore\n",
    "system = ReliabilityCalculator(\"fullbackup\", 4, 48, 2000000, 100, 0.2)\n",
    "system.initFullBackup(2)\n",
    "print(system.getMTTRn())\n",
    "print(system.getMTTFs())"
   ]
  }
 ],
 "metadata": {
  "kernelspec": {
   "display_name": "Python 3.9.4 64-bit",
   "language": "python",
   "name": "python3"
  },
  "language_info": {
   "codemirror_mode": {
    "name": "ipython",
    "version": 3
   },
   "file_extension": ".py",
   "mimetype": "text/x-python",
   "name": "python",
   "nbconvert_exporter": "python",
   "pygments_lexer": "ipython3",
   "version": "3.9.4"
  },
  "vscode": {
   "interpreter": {
    "hash": "3360e3604391758da36659830ef7d308a0c3003777cb07848ee9662e37379d3c"
   }
  }
 },
 "nbformat": 4,
 "nbformat_minor": 5
}
